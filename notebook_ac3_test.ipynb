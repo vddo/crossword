{
 "cells": [
  {
   "cell_type": "code",
   "execution_count": 1,
   "metadata": {},
   "outputs": [],
   "source": [
    "from crossword import *\n",
    "from generate import *\n",
    "structure = \"data/structure1.txt\"\n",
    "words = \"data/words1.txt\"\n",
    "crossword = Crossword(structure, words)\n",
    "creator = CrosswordCreator(crossword)"
   ]
  },
  {
   "cell_type": "code",
   "execution_count": 2,
   "metadata": {},
   "outputs": [
    {
     "data": {
      "text/plain": [
       "{Variable(2, 1, 'down', 5): {'ALPHA',\n",
       "  'BAYES',\n",
       "  'DEPTH',\n",
       "  'FALSE',\n",
       "  'GRAPH',\n",
       "  'INFER',\n",
       "  'LOGIC',\n",
       "  'PRUNE',\n",
       "  'START',\n",
       "  'TRUTH'},\n",
       " Variable(1, 12, 'down', 7): {'BREADTH',\n",
       "  'INITIAL',\n",
       "  'MINIMAX',\n",
       "  'NETWORK',\n",
       "  'RESOLVE'},\n",
       " Variable(6, 5, 'across', 6): {'CREATE',\n",
       "  'MARKOV',\n",
       "  'NEURAL',\n",
       "  'REASON',\n",
       "  'SEARCH'},\n",
       " Variable(1, 7, 'down', 7): {'BREADTH',\n",
       "  'INITIAL',\n",
       "  'MINIMAX',\n",
       "  'NETWORK',\n",
       "  'RESOLVE'},\n",
       " Variable(4, 4, 'across', 5): {'ALPHA',\n",
       "  'BAYES',\n",
       "  'DEPTH',\n",
       "  'FALSE',\n",
       "  'GRAPH',\n",
       "  'INFER',\n",
       "  'LOGIC',\n",
       "  'PRUNE',\n",
       "  'START',\n",
       "  'TRUTH'},\n",
       " Variable(2, 1, 'across', 12): {'DISTRIBUTION',\n",
       "  'INTELLIGENCE',\n",
       "  'OPTIMIZATION',\n",
       "  'SATISFACTION'}}"
      ]
     },
     "execution_count": 2,
     "metadata": {},
     "output_type": "execute_result"
    }
   ],
   "source": [
    "# Enforce node consistency\n",
    "creator.enforce_node_consistency()\n",
    "creator.domains"
   ]
  },
  {
   "cell_type": "code",
   "execution_count": 5,
   "metadata": {},
   "outputs": [],
   "source": [
    "def ac3(arcs=None):\n",
    "\n",
    "    # Create initial queue with all arcs\n",
    "    if arcs is None:\n",
    "        arcs = arcs_initial(creator.crossword)\n",
    "\n",
    "    # While set is not empty\n",
    "    while len(arcs) > 0:\n",
    "        (X, Y) = arcs.pop()\n",
    "\n",
    "        if creator.revise(X, Y):\n",
    "            # If empty\n",
    "            if not creator.domains[X]:\n",
    "                return False\n",
    "            else:\n",
    "                for Z in (creator.crossword.neighbors(X) - {Y}):\n",
    "                    arcs.add((Z, X))\n",
    "                    \n",
    "    return True\n"
   ]
  },
  {
   "cell_type": "code",
   "execution_count": 3,
   "metadata": {},
   "outputs": [
    {
     "data": {
      "text/plain": [
       "{Variable(2, 1, 'down', 5): {'INFER'},\n",
       " Variable(1, 12, 'down', 7): {'NETWORK', 'RESOLVE'},\n",
       " Variable(6, 5, 'across', 6): {'REASON', 'SEARCH'},\n",
       " Variable(1, 7, 'down', 7): {'MINIMAX'},\n",
       " Variable(4, 4, 'across', 5): {'LOGIC'},\n",
       " Variable(2, 1, 'across', 12): {'INTELLIGENCE'}}"
      ]
     },
     "execution_count": 3,
     "metadata": {},
     "output_type": "execute_result"
    }
   ],
   "source": [
    "creator.ac3()\n",
    "creator.domains"
   ]
  },
  {
   "cell_type": "code",
   "execution_count": null,
   "metadata": {},
   "outputs": [],
   "source": []
  }
 ],
 "metadata": {
  "kernelspec": {
   "display_name": "Python 3.10.4 64-bit",
   "language": "python",
   "name": "python3"
  },
  "language_info": {
   "codemirror_mode": {
    "name": "ipython",
    "version": 3
   },
   "file_extension": ".py",
   "mimetype": "text/x-python",
   "name": "python",
   "nbconvert_exporter": "python",
   "pygments_lexer": "ipython3",
   "version": "3.10.4"
  },
  "orig_nbformat": 4,
  "vscode": {
   "interpreter": {
    "hash": "aee8b7b246df8f9039afb4144a1f6fd8d2ca17a180786b69acc140d282b71a49"
   }
  }
 },
 "nbformat": 4,
 "nbformat_minor": 2
}
