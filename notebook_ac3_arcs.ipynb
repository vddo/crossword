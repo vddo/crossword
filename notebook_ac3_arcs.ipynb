{
 "cells": [
  {
   "cell_type": "markdown",
   "metadata": {},
   "source": [
    "## Working on AC-3 Algorithm"
   ]
  },
  {
   "cell_type": "markdown",
   "metadata": {},
   "source": [
    "- queue is list of arcs\n",
    "- arc is tuple of two neighbors (x, y)\n",
    "- list has every variable in self.variables\n",
    "- each variable in neighbors(x)\n",
    "- add variable x with neighbors y_i in tuple\n",
    "- no order needed"
   ]
  },
  {
   "cell_type": "code",
   "execution_count": 1,
   "metadata": {},
   "outputs": [],
   "source": [
    "from crossword import *\n",
    "structure = \"data/structure2.txt\"\n",
    "words = \"data/words2.txt\"\n",
    "crossword = Crossword(structure, words)"
   ]
  },
  {
   "cell_type": "code",
   "execution_count": 2,
   "metadata": {},
   "outputs": [
    {
     "data": {
      "text/plain": [
       "{Variable(0, 6, 'down', 6),\n",
       " Variable(1, 0, 'across', 4),\n",
       " Variable(1, 0, 'down', 4),\n",
       " Variable(1, 3, 'down', 5),\n",
       " Variable(2, 3, 'across', 4),\n",
       " Variable(5, 1, 'across', 3)}"
      ]
     },
     "execution_count": 2,
     "metadata": {},
     "output_type": "execute_result"
    }
   ],
   "source": [
    "crossword.variables"
   ]
  },
  {
   "cell_type": "code",
   "execution_count": 32,
   "metadata": {},
   "outputs": [],
   "source": [
    "arcs = []\n",
    "\n",
    "for variable in crossword.variables:\n",
    "    # print(crossword.neighbors(variable))\n",
    "    list_of_neighbors = crossword.neighbors(variable)\n",
    "    for neighbor in list_of_neighbors:\n",
    "        tuple_i = (variable, neighbor)\n",
    "        arcs.append(tuple_i)\n"
   ]
  },
  {
   "cell_type": "code",
   "execution_count": 41,
   "metadata": {},
   "outputs": [
    {
     "data": {
      "text/plain": [
       "[(Variable(1, 0, 'across', 4), Variable(1, 0, 'down', 4)),\n",
       " (Variable(1, 0, 'across', 4), Variable(1, 3, 'down', 5)),\n",
       " (Variable(0, 6, 'down', 6), Variable(2, 3, 'across', 4)),\n",
       " (Variable(1, 3, 'down', 5), Variable(1, 0, 'across', 4)),\n",
       " (Variable(1, 3, 'down', 5), Variable(5, 1, 'across', 3)),\n",
       " (Variable(1, 3, 'down', 5), Variable(2, 3, 'across', 4)),\n",
       " (Variable(1, 0, 'down', 4), Variable(1, 0, 'across', 4)),\n",
       " (Variable(2, 3, 'across', 4), Variable(0, 6, 'down', 6)),\n",
       " (Variable(2, 3, 'across', 4), Variable(1, 3, 'down', 5)),\n",
       " (Variable(5, 1, 'across', 3), Variable(1, 3, 'down', 5))]"
      ]
     },
     "execution_count": 41,
     "metadata": {},
     "output_type": "execute_result"
    }
   ],
   "source": [
    "arcs"
   ]
  },
  {
   "cell_type": "code",
   "execution_count": 31,
   "metadata": {},
   "outputs": [
    {
     "name": "stdout",
     "output_type": "stream",
     "text": [
      "<class 'tuple'>\n"
     ]
    }
   ],
   "source": [
    "print(type(tuple_i))"
   ]
  },
  {
   "cell_type": "code",
   "execution_count": 39,
   "metadata": {},
   "outputs": [],
   "source": [
    "def arcs_initial(crossword):\n",
    "    # Empty list for arcs    \n",
    "    arcs = []\n",
    "\n",
    "    # Loop over each variable\n",
    "    for variable in crossword.variables:\n",
    "        # Loop over each of neighbor of variable\n",
    "        for neighbor in crossword.neighbors(variable):\n",
    "            arcs.append((variable, neighbor))\n",
    "    \n",
    "    return arcs"
   ]
  },
  {
   "cell_type": "code",
   "execution_count": 40,
   "metadata": {},
   "outputs": [],
   "source": [
    "arcs = arcs_initial(crossword)"
   ]
  },
  {
   "cell_type": "code",
   "execution_count": 33,
   "metadata": {},
   "outputs": [
    {
     "data": {
      "text/plain": [
       "[(Variable(1, 0, 'across', 4), Variable(1, 0, 'down', 4)),\n",
       " (Variable(1, 0, 'across', 4), Variable(1, 3, 'down', 5)),\n",
       " (Variable(0, 6, 'down', 6), Variable(2, 3, 'across', 4)),\n",
       " (Variable(1, 3, 'down', 5), Variable(1, 0, 'across', 4)),\n",
       " (Variable(1, 3, 'down', 5), Variable(5, 1, 'across', 3)),\n",
       " (Variable(1, 3, 'down', 5), Variable(2, 3, 'across', 4)),\n",
       " (Variable(1, 0, 'down', 4), Variable(1, 0, 'across', 4)),\n",
       " (Variable(2, 3, 'across', 4), Variable(0, 6, 'down', 6)),\n",
       " (Variable(2, 3, 'across', 4), Variable(1, 3, 'down', 5)),\n",
       " (Variable(5, 1, 'across', 3), Variable(1, 3, 'down', 5))]"
      ]
     },
     "execution_count": 33,
     "metadata": {},
     "output_type": "execute_result"
    }
   ],
   "source": [
    "arcs"
   ]
  },
  {
   "cell_type": "code",
   "execution_count": 35,
   "metadata": {},
   "outputs": [
    {
     "data": {
      "text/plain": [
       "{Variable(1, 0, 'down', 4), Variable(1, 3, 'down', 5)}"
      ]
     },
     "execution_count": 35,
     "metadata": {},
     "output_type": "execute_result"
    }
   ],
   "source": [
    "crossword.neighbors(Variable(1, 0, 'across', 4))"
   ]
  },
  {
   "cell_type": "code",
   "execution_count": 37,
   "metadata": {},
   "outputs": [
    {
     "data": {
      "text/plain": [
       "Variable(1, 0, 'across', 4)"
      ]
     },
     "execution_count": 37,
     "metadata": {},
     "output_type": "execute_result"
    }
   ],
   "source": [
    "arcs[0][0]"
   ]
  },
  {
   "cell_type": "code",
   "execution_count": null,
   "metadata": {},
   "outputs": [],
   "source": []
  },
  {
   "cell_type": "code",
   "execution_count": null,
   "metadata": {},
   "outputs": [],
   "source": []
  },
  {
   "cell_type": "markdown",
   "metadata": {},
   "source": [
    "### Archive"
   ]
  },
  {
   "cell_type": "code",
   "execution_count": 23,
   "metadata": {},
   "outputs": [
    {
     "name": "stdout",
     "output_type": "stream",
     "text": [
      "<class 'set'>\n"
     ]
    }
   ],
   "source": [
    "print(type(list_of_neighbors))"
   ]
  },
  {
   "cell_type": "code",
   "execution_count": 24,
   "metadata": {},
   "outputs": [
    {
     "data": {
      "text/plain": [
       "{Variable(1, 3, 'down', 5)}"
      ]
     },
     "execution_count": 24,
     "metadata": {},
     "output_type": "execute_result"
    }
   ],
   "source": [
    "list_of_neighbors"
   ]
  },
  {
   "cell_type": "code",
   "execution_count": 27,
   "metadata": {},
   "outputs": [],
   "source": [
    "for neighbor in list_of_neighbors:\n",
    "    z = neighbor"
   ]
  },
  {
   "cell_type": "code",
   "execution_count": 28,
   "metadata": {},
   "outputs": [
    {
     "data": {
      "text/plain": [
       "Variable(1, 3, 'down', 5)"
      ]
     },
     "execution_count": 28,
     "metadata": {},
     "output_type": "execute_result"
    }
   ],
   "source": [
    "z"
   ]
  }
 ],
 "metadata": {
  "kernelspec": {
   "display_name": "Python 3.10.4 64-bit",
   "language": "python",
   "name": "python3"
  },
  "language_info": {
   "codemirror_mode": {
    "name": "ipython",
    "version": 3
   },
   "file_extension": ".py",
   "mimetype": "text/x-python",
   "name": "python",
   "nbconvert_exporter": "python",
   "pygments_lexer": "ipython3",
   "version": "3.10.4"
  },
  "orig_nbformat": 4,
  "vscode": {
   "interpreter": {
    "hash": "aee8b7b246df8f9039afb4144a1f6fd8d2ca17a180786b69acc140d282b71a49"
   }
  }
 },
 "nbformat": 4,
 "nbformat_minor": 2
}
