{
 "cells": [
  {
   "cell_type": "markdown",
   "metadata": {},
   "source": [
    "## enforce_node_consistency()\n",
    "\n",
    "- domain of each variable consistent with variable's unary constraint:\n",
    "- value same number of letters as variable's length\n"
   ]
  },
  {
   "cell_type": "code",
   "execution_count": 29,
   "metadata": {},
   "outputs": [],
   "source": [
    "from crossword import *\n",
    "from generate import *\n",
    "structure = \"data/structure0.txt\"\n",
    "words = \"data/words0.txt\"\n",
    "crossword = Crossword(structure, words)\n",
    "create = CrosswordCreator(crossword)"
   ]
  },
  {
   "cell_type": "code",
   "execution_count": 3,
   "metadata": {},
   "outputs": [
    {
     "data": {
      "text/plain": [
       "{Variable(0, 1, 'down', 5): {'EIGHT',\n",
       "  'FIVE',\n",
       "  'FOUR',\n",
       "  'NINE',\n",
       "  'ONE',\n",
       "  'SEVEN',\n",
       "  'SIX',\n",
       "  'TEN',\n",
       "  'THREE',\n",
       "  'TWO'},\n",
       " Variable(0, 1, 'across', 3): {'EIGHT',\n",
       "  'FIVE',\n",
       "  'FOUR',\n",
       "  'NINE',\n",
       "  'ONE',\n",
       "  'SEVEN',\n",
       "  'SIX',\n",
       "  'TEN',\n",
       "  'THREE',\n",
       "  'TWO'},\n",
       " Variable(4, 1, 'across', 4): {'EIGHT',\n",
       "  'FIVE',\n",
       "  'FOUR',\n",
       "  'NINE',\n",
       "  'ONE',\n",
       "  'SEVEN',\n",
       "  'SIX',\n",
       "  'TEN',\n",
       "  'THREE',\n",
       "  'TWO'},\n",
       " Variable(1, 4, 'down', 4): {'EIGHT',\n",
       "  'FIVE',\n",
       "  'FOUR',\n",
       "  'NINE',\n",
       "  'ONE',\n",
       "  'SEVEN',\n",
       "  'SIX',\n",
       "  'TEN',\n",
       "  'THREE',\n",
       "  'TWO'}}"
      ]
     },
     "execution_count": 3,
     "metadata": {},
     "output_type": "execute_result"
    }
   ],
   "source": [
    "create.domains"
   ]
  },
  {
   "cell_type": "code",
   "execution_count": 4,
   "metadata": {},
   "outputs": [
    {
     "name": "stdout",
     "output_type": "stream",
     "text": [
      "(0, 1) down : 5\n",
      "(0, 1) across : 3\n",
      "(4, 1) across : 4\n",
      "(1, 4) down : 4\n"
     ]
    }
   ],
   "source": [
    "for value in create.domains:\n",
    "    print(value)"
   ]
  },
  {
   "cell_type": "code",
   "execution_count": 30,
   "metadata": {},
   "outputs": [],
   "source": [
    "# List of word to be removed\n",
    "candidates = list()\n",
    "\n",
    "for variable in create.domains:\n",
    "    for word in create.domains[variable]:\n",
    "        if len(word) != variable.length:\n",
    "            candidates.append({variable:word})"
   ]
  },
  {
   "cell_type": "code",
   "execution_count": null,
   "metadata": {},
   "outputs": [],
   "source": [
    "candidates"
   ]
  },
  {
   "cell_type": "code",
   "execution_count": 18,
   "metadata": {},
   "outputs": [],
   "source": [
    "candidate = candidates[0]"
   ]
  },
  {
   "cell_type": "code",
   "execution_count": 22,
   "metadata": {},
   "outputs": [
    {
     "data": {
      "text/plain": [
       "Variable(0, 1, 'down', 5)"
      ]
     },
     "execution_count": 22,
     "metadata": {},
     "output_type": "execute_result"
    }
   ],
   "source": [
    "next(iter(candidate))"
   ]
  },
  {
   "cell_type": "code",
   "execution_count": 32,
   "metadata": {},
   "outputs": [],
   "source": [
    "for candidate in candidates:\n",
    "    key = next(iter(candidate))\n",
    "    value = candidate[key]\n",
    "    create.domains[key].remove(value)"
   ]
  },
  {
   "cell_type": "code",
   "execution_count": 28,
   "metadata": {},
   "outputs": [
    {
     "data": {
      "text/plain": [
       "[{Variable(0, 1, 'down', 5): 'NINE'},\n",
       " {Variable(0, 1, 'down', 5): 'SIX'},\n",
       " {Variable(0, 1, 'down', 5): 'TEN'},\n",
       " {Variable(0, 1, 'down', 5): 'FIVE'},\n",
       " {Variable(0, 1, 'down', 5): 'ONE'},\n",
       " {Variable(0, 1, 'down', 5): 'FOUR'},\n",
       " {Variable(0, 1, 'across', 3): 'SEVEN'},\n",
       " {Variable(0, 1, 'across', 3): 'THREE'},\n",
       " {Variable(0, 1, 'across', 3): 'NINE'},\n",
       " {Variable(0, 1, 'across', 3): 'FIVE'},\n",
       " {Variable(0, 1, 'across', 3): 'EIGHT'},\n",
       " {Variable(0, 1, 'across', 3): 'FOUR'},\n",
       " {Variable(4, 1, 'across', 4): 'SEVEN'},\n",
       " {Variable(4, 1, 'across', 4): 'THREE'},\n",
       " {Variable(4, 1, 'across', 4): 'TWO'},\n",
       " {Variable(4, 1, 'across', 4): 'SIX'},\n",
       " {Variable(4, 1, 'across', 4): 'TEN'},\n",
       " {Variable(4, 1, 'across', 4): 'ONE'},\n",
       " {Variable(4, 1, 'across', 4): 'EIGHT'},\n",
       " {Variable(1, 4, 'down', 4): 'SEVEN'},\n",
       " {Variable(1, 4, 'down', 4): 'THREE'},\n",
       " {Variable(1, 4, 'down', 4): 'TWO'},\n",
       " {Variable(1, 4, 'down', 4): 'SIX'},\n",
       " {Variable(1, 4, 'down', 4): 'TEN'},\n",
       " {Variable(1, 4, 'down', 4): 'ONE'},\n",
       " {Variable(1, 4, 'down', 4): 'EIGHT'}]"
      ]
     },
     "execution_count": 28,
     "metadata": {},
     "output_type": "execute_result"
    }
   ],
   "source": [
    "candidates"
   ]
  },
  {
   "cell_type": "code",
   "execution_count": 33,
   "metadata": {},
   "outputs": [
    {
     "data": {
      "text/plain": [
       "{Variable(0, 1, 'down', 5): {'EIGHT', 'SEVEN', 'THREE'},\n",
       " Variable(0, 1, 'across', 3): {'ONE', 'SIX', 'TEN', 'TWO'},\n",
       " Variable(4, 1, 'across', 4): {'FIVE', 'FOUR', 'NINE'},\n",
       " Variable(1, 4, 'down', 4): {'FIVE', 'FOUR', 'NINE'}}"
      ]
     },
     "execution_count": 33,
     "metadata": {},
     "output_type": "execute_result"
    }
   ],
   "source": [
    "create.domains"
   ]
  },
  {
   "cell_type": "code",
   "execution_count": null,
   "metadata": {},
   "outputs": [],
   "source": []
  }
 ],
 "metadata": {
  "kernelspec": {
   "display_name": "Python 3.10.4 64-bit",
   "language": "python",
   "name": "python3"
  },
  "language_info": {
   "codemirror_mode": {
    "name": "ipython",
    "version": 3
   },
   "file_extension": ".py",
   "mimetype": "text/x-python",
   "name": "python",
   "nbconvert_exporter": "python",
   "pygments_lexer": "ipython3",
   "version": "3.10.4"
  },
  "orig_nbformat": 4,
  "vscode": {
   "interpreter": {
    "hash": "aee8b7b246df8f9039afb4144a1f6fd8d2ca17a180786b69acc140d282b71a49"
   }
  }
 },
 "nbformat": 4,
 "nbformat_minor": 2
}
