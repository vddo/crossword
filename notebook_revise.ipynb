{
 "cells": [
  {
   "cell_type": "code",
   "execution_count": 1,
   "metadata": {},
   "outputs": [],
   "source": [
    "from crossword import *\n",
    "structure = \"data/structure0.txt\"\n",
    "words = \"data/words0.txt\"\n",
    "crossword = Crossword(structure, words)"
   ]
  },
  {
   "cell_type": "code",
   "execution_count": 2,
   "metadata": {},
   "outputs": [],
   "source": [
    "class CrosswordCreator():\n",
    "\n",
    "    def __init__(self, crossword):\n",
    "        \"\"\"\n",
    "        Create new CSP crossword generate.\n",
    "        \"\"\"\n",
    "        self.crossword = crossword\n",
    "        # self.domains looks like dict with keys = Variable-object and values = copy-set of all words\n",
    "        self.domains = {\n",
    "            var: self.crossword.words.copy()\n",
    "            for var in self.crossword.variables\n",
    "        }\n",
    "    \n",
    "    # Used for print() and save()\n",
    "    def letter_grid(self, assignment):\n",
    "        \"\"\"\n",
    "        Return 2D array representing a given assignment.\n",
    "        \"\"\"\n",
    "        letters = [\n",
    "            [None for _ in range(self.crossword.width)]\n",
    "            for _ in range(self.crossword.height)\n",
    "        ]\n",
    "        for variable, word in assignment.items():\n",
    "            direction = variable.direction\n",
    "            for k in range(len(word)):\n",
    "                i = variable.i + (k if direction == Variable.DOWN else 0)\n",
    "                j = variable.j + (k if direction == Variable.ACROSS else 0)\n",
    "                letters[i][j] = word[k]\n",
    "        return letters\n",
    "    \n",
    "    def print(self, assignment):\n",
    "        \"\"\"\n",
    "        Print crossword assignment to the terminal.\n",
    "        \"\"\"\n",
    "        letters = self.letter_grid(assignment)\n",
    "        for i in range(self.crossword.height):\n",
    "            for j in range(self.crossword.width):\n",
    "                if self.crossword.structure[i][j]:\n",
    "                    print(letters[i][j] or \" \", end=\"\")\n",
    "                else:\n",
    "                    print(\"█\", end=\"\")\n",
    "            print()\n",
    "\n",
    "    def save(self, assignment, filename):\n",
    "        \"\"\"\n",
    "        Save crossword assignment to an image file.\n",
    "        \"\"\"\n",
    "        from PIL import Image, ImageDraw, ImageFont\n",
    "        cell_size = 100\n",
    "        cell_border = 2\n",
    "        interior_size = cell_size - 2 * cell_border\n",
    "        letters = self.letter_grid(assignment)\n",
    "\n",
    "        # Create a blank canvas\n",
    "        img = Image.new(\n",
    "            \"RGBA\",\n",
    "            (self.crossword.width * cell_size,\n",
    "             self.crossword.height * cell_size),\n",
    "            \"black\"\n",
    "        )\n",
    "        font = ImageFont.truetype(\"assets/fonts/OpenSans-Regular.ttf\", 80)\n",
    "        draw = ImageDraw.Draw(img)\n",
    "\n",
    "        for i in range(self.crossword.height):\n",
    "            for j in range(self.crossword.width):\n",
    "\n",
    "                rect = [\n",
    "                    (j * cell_size + cell_border,\n",
    "                     i * cell_size + cell_border),\n",
    "                    ((j + 1) * cell_size - cell_border,\n",
    "                     (i + 1) * cell_size - cell_border)\n",
    "                ]\n",
    "                if self.crossword.structure[i][j]:\n",
    "                    draw.rectangle(rect, fill=\"white\")\n",
    "                    if letters[i][j]:\n",
    "                        w, h = draw.textsize(letters[i][j], font=font)\n",
    "                        draw.text(\n",
    "                            (rect[0][0] + ((interior_size - w) / 2),\n",
    "                             rect[0][1] + ((interior_size - h) / 2) - 10),\n",
    "                            letters[i][j], fill=\"black\", font=font\n",
    "                        )\n",
    "\n",
    "        img.save(filename)"
   ]
  },
  {
   "cell_type": "code",
   "execution_count": 3,
   "metadata": {},
   "outputs": [],
   "source": [
    "creator = CrosswordCreator(crossword)"
   ]
  },
  {
   "cell_type": "code",
   "execution_count": 4,
   "metadata": {},
   "outputs": [],
   "source": [
    "def revise(x, y):\n",
    "    \"\"\"\n",
    "    Make variable `x` arc consistent with variable `y`.\n",
    "    To do so, remove values from `self.domains[x]` for which there is no\n",
    "    possible corresponding value for `y` in `self.domains[y]`.\n",
    "\n",
    "    Return True if a revision was made to the domain of `x`; return\n",
    "    False if no revision was made.\n",
    "    \"\"\"\n",
    "    \"\"\"\n",
    "    function revise(csp, x, y):\n",
    "        revised = False\n",
    "        for xi in x.domain:\n",
    "            if no yi in y.domain satisfies constraint for (x,y):\n",
    "                delete xi from x.domain\n",
    "                revised = True\n",
    "        return revised\n",
    "    \"\"\"\n",
    "    \"\"\"\n",
    "    for xi: for yi to sastify constraint = at least 1 yi != xi\n",
    "    if all yi == xi than constraint not satisfied\n",
    "    if all yi == xi than delete xi\n",
    "    code:\n",
    "    for yi in y.domain:\n",
    "        while True:\n",
    "            if yi == xi:\n",
    "                continue\n",
    "            else:\n",
    "                x.domain.remove(xi)\n",
    "                break\n",
    "\n",
    "    \"\"\"\n",
    "\n",
    "    revised = False\n",
    "\n",
    "    # List with removing candidates\n",
    "    removing_list = []\n",
    "    \n",
    "    # Indices of overlapping\n",
    "    i_x, i_y = crossword.overlaps[x, y]\n",
    "    \n",
    "    for word_x in creator.domains[x]:\n",
    "        print(\"starting here X: \", word_x, \", overlap:\", word_x[i_x])\n",
    "\n",
    "        # Count if condition for arc consistency was met: word_y != word_x\n",
    "        count = 0\n",
    "\n",
    "        for word_y in creator.domains[y]:\n",
    "            print(\"word_y = \", word_y, \", overlap:\", word_y[i_y])\n",
    "            if word_y[i_y] == word_x[i_x]:\n",
    "                print(\"overlapping: True\")\n",
    "                count += 1\n",
    "                break\n",
    "\n",
    "        # If condition was not met add word_x to removing list\n",
    "        if count == 0:\n",
    "            print(\"removing: \", word_x)\n",
    "            # creator.domains[x].remove(word_x)\n",
    "            removing_list.append(word_x)\n",
    "            revised = True\n",
    "\n",
    "    # Remove candidated from set domain[x]\n",
    "    creator.domains[x] = creator.domains[x] - set(removing_list)\n",
    "\n",
    "    return revised"
   ]
  },
  {
   "cell_type": "code",
   "execution_count": 5,
   "metadata": {},
   "outputs": [],
   "source": [
    "VarX = Variable(0, 1, 'across', 3)\n",
    "VarY = Variable(0, 1, 'down', 5)"
   ]
  },
  {
   "cell_type": "code",
   "execution_count": 6,
   "metadata": {},
   "outputs": [],
   "source": [
    "creator.domains[VarY].remove('ONE')"
   ]
  },
  {
   "cell_type": "code",
   "execution_count": 7,
   "metadata": {},
   "outputs": [
    {
     "name": "stdout",
     "output_type": "stream",
     "text": [
      "starting here X:  EIGHT , overlap: E\n",
      "word_y =  EIGHT , overlap: E\n",
      "overlapping: True\n",
      "starting here X:  ONE , overlap: O\n",
      "word_y =  EIGHT , overlap: E\n",
      "word_y =  FOUR , overlap: F\n",
      "word_y =  SIX , overlap: S\n",
      "word_y =  THREE , overlap: T\n",
      "word_y =  TEN , overlap: T\n",
      "word_y =  FIVE , overlap: F\n",
      "word_y =  TWO , overlap: T\n",
      "word_y =  SEVEN , overlap: S\n",
      "word_y =  NINE , overlap: N\n",
      "removing:  ONE\n",
      "starting here X:  FOUR , overlap: F\n",
      "word_y =  EIGHT , overlap: E\n",
      "word_y =  FOUR , overlap: F\n",
      "overlapping: True\n",
      "starting here X:  SIX , overlap: S\n",
      "word_y =  EIGHT , overlap: E\n",
      "word_y =  FOUR , overlap: F\n",
      "word_y =  SIX , overlap: S\n",
      "overlapping: True\n",
      "starting here X:  THREE , overlap: T\n",
      "word_y =  EIGHT , overlap: E\n",
      "word_y =  FOUR , overlap: F\n",
      "word_y =  SIX , overlap: S\n",
      "word_y =  THREE , overlap: T\n",
      "overlapping: True\n",
      "starting here X:  TEN , overlap: T\n",
      "word_y =  EIGHT , overlap: E\n",
      "word_y =  FOUR , overlap: F\n",
      "word_y =  SIX , overlap: S\n",
      "word_y =  THREE , overlap: T\n",
      "overlapping: True\n",
      "starting here X:  FIVE , overlap: F\n",
      "word_y =  EIGHT , overlap: E\n",
      "word_y =  FOUR , overlap: F\n",
      "overlapping: True\n",
      "starting here X:  TWO , overlap: T\n",
      "word_y =  EIGHT , overlap: E\n",
      "word_y =  FOUR , overlap: F\n",
      "word_y =  SIX , overlap: S\n",
      "word_y =  THREE , overlap: T\n",
      "overlapping: True\n",
      "starting here X:  SEVEN , overlap: S\n",
      "word_y =  EIGHT , overlap: E\n",
      "word_y =  FOUR , overlap: F\n",
      "word_y =  SIX , overlap: S\n",
      "overlapping: True\n",
      "starting here X:  NINE , overlap: N\n",
      "word_y =  EIGHT , overlap: E\n",
      "word_y =  FOUR , overlap: F\n",
      "word_y =  SIX , overlap: S\n",
      "word_y =  THREE , overlap: T\n",
      "word_y =  TEN , overlap: T\n",
      "word_y =  FIVE , overlap: F\n",
      "word_y =  TWO , overlap: T\n",
      "word_y =  SEVEN , overlap: S\n",
      "word_y =  NINE , overlap: N\n",
      "overlapping: True\n"
     ]
    },
    {
     "data": {
      "text/plain": [
       "True"
      ]
     },
     "execution_count": 7,
     "metadata": {},
     "output_type": "execute_result"
    }
   ],
   "source": [
    "\n",
    "revise(x = VarX, y = VarY)"
   ]
  },
  {
   "cell_type": "code",
   "execution_count": 8,
   "metadata": {},
   "outputs": [
    {
     "data": {
      "text/plain": [
       "{'EIGHT', 'FIVE', 'FOUR', 'NINE', 'SEVEN', 'SIX', 'TEN', 'THREE', 'TWO'}"
      ]
     },
     "execution_count": 8,
     "metadata": {},
     "output_type": "execute_result"
    }
   ],
   "source": [
    "creator.domains[VarX]"
   ]
  },
  {
   "cell_type": "markdown",
   "metadata": {},
   "source": [
    "Test implemented revise()"
   ]
  },
  {
   "cell_type": "code",
   "execution_count": 2,
   "metadata": {},
   "outputs": [],
   "source": [
    "from generate import *"
   ]
  },
  {
   "cell_type": "code",
   "execution_count": 3,
   "metadata": {},
   "outputs": [],
   "source": [
    "creator = CrosswordCreator(crossword)"
   ]
  },
  {
   "cell_type": "code",
   "execution_count": 5,
   "metadata": {},
   "outputs": [
    {
     "data": {
      "text/plain": [
       "False"
      ]
     },
     "execution_count": 5,
     "metadata": {},
     "output_type": "execute_result"
    }
   ],
   "source": [
    "creator.revise(x = VarX, y = VarY)"
   ]
  },
  {
   "cell_type": "code",
   "execution_count": null,
   "metadata": {},
   "outputs": [],
   "source": []
  }
 ],
 "metadata": {
  "kernelspec": {
   "display_name": "Python 3.10.4 64-bit",
   "language": "python",
   "name": "python3"
  },
  "language_info": {
   "codemirror_mode": {
    "name": "ipython",
    "version": 3
   },
   "file_extension": ".py",
   "mimetype": "text/x-python",
   "name": "python",
   "nbconvert_exporter": "python",
   "pygments_lexer": "ipython3",
   "version": "3.10.4"
  },
  "orig_nbformat": 4,
  "vscode": {
   "interpreter": {
    "hash": "aee8b7b246df8f9039afb4144a1f6fd8d2ca17a180786b69acc140d282b71a49"
   }
  }
 },
 "nbformat": 4,
 "nbformat_minor": 2
}
