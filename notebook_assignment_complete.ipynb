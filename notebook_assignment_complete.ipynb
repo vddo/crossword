{
 "cells": [
  {
   "cell_type": "code",
   "execution_count": 1,
   "metadata": {},
   "outputs": [],
   "source": [
    "# assignment is dictionary = self.domain\n",
    "# keys are Variable objects\n",
    "# values are strings representing the word one Variable takes on\n",
    "\n",
    "# complete = variable is assigned to a value\n",
    "# return True if complete; False otherwise"
   ]
  },
  {
   "cell_type": "code",
   "execution_count": 18,
   "metadata": {},
   "outputs": [],
   "source": [
    "from crossword import *\n",
    "from generate import *\n",
    "structure = \"data/structure0.txt\"\n",
    "words = \"data/words0_copy.txt\"\n",
    "crossword = Crossword(structure, words)\n",
    "creator = CrosswordCreator(crossword)"
   ]
  },
  {
   "cell_type": "code",
   "execution_count": 19,
   "metadata": {},
   "outputs": [
    {
     "data": {
      "text/plain": [
       "True"
      ]
     },
     "execution_count": 19,
     "metadata": {},
     "output_type": "execute_result"
    }
   ],
   "source": [
    "creator.enforce_node_consistency()\n",
    "creator.ac3()"
   ]
  },
  {
   "cell_type": "code",
   "execution_count": 9,
   "metadata": {},
   "outputs": [
    {
     "name": "stdout",
     "output_type": "stream",
     "text": [
      "(0, 1) across : 3\n",
      "(4, 1) across : 4\n",
      "(1, 4) down : 4\n",
      "(0, 1) down : 5\n"
     ]
    }
   ],
   "source": [
    "for variable in creator.domains:\n",
    "    print(variable)"
   ]
  },
  {
   "cell_type": "code",
   "execution_count": 13,
   "metadata": {},
   "outputs": [
    {
     "name": "stdout",
     "output_type": "stream",
     "text": [
      "1\n",
      "1\n",
      "2\n",
      "1\n"
     ]
    }
   ],
   "source": [
    "for variable in creator.domains:\n",
    "    print(\n",
    "        len(\n",
    "            creator.domains[variable]\n",
    "        )\n",
    "    )"
   ]
  },
  {
   "cell_type": "code",
   "execution_count": 20,
   "metadata": {},
   "outputs": [
    {
     "name": "stdout",
     "output_type": "stream",
     "text": [
      "{'SIX'}\n",
      "{'NINE'}\n",
      "{'NINE'}\n",
      "{'SEVEN'}\n"
     ]
    }
   ],
   "source": [
    "for variable in creator.domains:\n",
    "    print(creator.domains[variable]) "
   ]
  },
  {
   "cell_type": "markdown",
   "metadata": {},
   "source": [
    "def assignment_complete(assignment):\n",
    "    \n",
    "    # Loop over all variables\n",
    "    for variable in assignment:\n",
    "        # If one variable has a number of word other than one, not complete\n",
    "        if len(assignment[variable]) != 1:\n",
    "            return False\n",
    "    \n",
    "    # Otherwise complete\n",
    "    return True"
   ]
  },
  {
   "cell_type": "code",
   "execution_count": 21,
   "metadata": {},
   "outputs": [
    {
     "data": {
      "text/plain": [
       "True"
      ]
     },
     "execution_count": 21,
     "metadata": {},
     "output_type": "execute_result"
    }
   ],
   "source": [
    "assignment_complete(creator.domains)"
   ]
  },
  {
   "cell_type": "markdown",
   "metadata": {},
   "source": [
    "### asssignment is not domains"
   ]
  },
  {
   "cell_type": "code",
   "execution_count": 22,
   "metadata": {},
   "outputs": [
    {
     "data": {
      "text/plain": [
       "4"
      ]
     },
     "execution_count": 22,
     "metadata": {},
     "output_type": "execute_result"
    }
   ],
   "source": [
    "len(creator.domains)"
   ]
  },
  {
   "cell_type": "code",
   "execution_count": 23,
   "metadata": {},
   "outputs": [],
   "source": [
    "def assignment_complete(assignment):\n",
    "    if len(assignment) == len(creator.domains):\n",
    "        return True\n",
    "    else:\n",
    "        return False"
   ]
  }
 ],
 "metadata": {
  "kernelspec": {
   "display_name": "Python 3.10.4 64-bit",
   "language": "python",
   "name": "python3"
  },
  "language_info": {
   "codemirror_mode": {
    "name": "ipython",
    "version": 3
   },
   "file_extension": ".py",
   "mimetype": "text/x-python",
   "name": "python",
   "nbconvert_exporter": "python",
   "pygments_lexer": "ipython3",
   "version": "3.10.4"
  },
  "orig_nbformat": 4,
  "vscode": {
   "interpreter": {
    "hash": "aee8b7b246df8f9039afb4144a1f6fd8d2ca17a180786b69acc140d282b71a49"
   }
  }
 },
 "nbformat": 4,
 "nbformat_minor": 2
}
