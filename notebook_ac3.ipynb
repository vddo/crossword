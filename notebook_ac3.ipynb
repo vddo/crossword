{
 "cells": [
  {
   "cell_type": "markdown",
   "metadata": {},
   "source": [
    "## Working on AC-3 Algorithm"
   ]
  },
  {
   "cell_type": "markdown",
   "metadata": {},
   "source": [
    "- queue is list of arcs\n",
    "- arc is tuple of two neighbors (x, y)\n",
    "- list has every variable in self.variables\n",
    "- each variable in neighbors(x)\n",
    "- add variable x with neighbors y_i in tuple\n",
    "- no order needed"
   ]
  },
  {
   "cell_type": "code",
   "execution_count": 8,
   "metadata": {},
   "outputs": [],
   "source": [
    "from crossword import *\n",
    "from generate import *\n",
    "structure = \"data/structure0.txt\"\n",
    "words = \"data/words0.txt\"\n",
    "crossword = Crossword(structure, words)\n",
    "creator = CrosswordCreator(crossword)"
   ]
  },
  {
   "cell_type": "code",
   "execution_count": 2,
   "metadata": {},
   "outputs": [],
   "source": [
    "def arcs_initial(crossword):\n",
    "    # Empty set for arcs    \n",
    "    arcs = set()\n",
    "\n",
    "    # Loop over each variable\n",
    "    for variable in crossword.variables:\n",
    "        # Loop over each of neighbor of variable\n",
    "        for neighbor in crossword.neighbors(variable):\n",
    "            arcs.add((variable, neighbor))\n",
    "    \n",
    "    return arcs"
   ]
  },
  {
   "cell_type": "markdown",
   "metadata": {},
   "source": [
    "Function AC-3"
   ]
  },
  {
   "cell_type": "code",
   "execution_count": 9,
   "metadata": {},
   "outputs": [
    {
     "data": {
      "text/plain": [
       "{Variable(0, 1, 'down', 5): {'EIGHT', 'SEVEN', 'THREE'},\n",
       " Variable(0, 1, 'across', 3): {'ONE', 'SIX', 'TEN', 'TWO'},\n",
       " Variable(4, 1, 'across', 4): {'FIVE', 'FOUR', 'NINE'},\n",
       " Variable(1, 4, 'down', 4): {'FIVE', 'FOUR', 'NINE'}}"
      ]
     },
     "execution_count": 9,
     "metadata": {},
     "output_type": "execute_result"
    }
   ],
   "source": [
    "# Enforce node consistency\n",
    "creator.enforce_node_consistency()\n",
    "creator.domains"
   ]
  },
  {
   "cell_type": "code",
   "execution_count": 5,
   "metadata": {},
   "outputs": [
    {
     "data": {
      "text/plain": [
       "{(Variable(0, 1, 'across', 3), Variable(0, 1, 'down', 5)),\n",
       " (Variable(0, 1, 'down', 5), Variable(0, 1, 'across', 3)),\n",
       " (Variable(0, 1, 'down', 5), Variable(4, 1, 'across', 4)),\n",
       " (Variable(1, 4, 'down', 4), Variable(4, 1, 'across', 4)),\n",
       " (Variable(4, 1, 'across', 4), Variable(0, 1, 'down', 5)),\n",
       " (Variable(4, 1, 'across', 4), Variable(1, 4, 'down', 4))}"
      ]
     },
     "execution_count": 5,
     "metadata": {},
     "output_type": "execute_result"
    }
   ],
   "source": [
    "arcs = arcs_initial(creator.crossword)\n",
    "arcs"
   ]
  },
  {
   "cell_type": "code",
   "execution_count": 37,
   "metadata": {},
   "outputs": [
    {
     "name": "stdout",
     "output_type": "stream",
     "text": [
      "(4, 1) across : 4 , (0, 1) down : 5\n"
     ]
    }
   ],
   "source": [
    "(X, Y) = arcs.pop()\n",
    "print(X,',', Y)"
   ]
  },
  {
   "cell_type": "code",
   "execution_count": 42,
   "metadata": {},
   "outputs": [
    {
     "data": {
      "text/plain": [
       "Variable(4, 1, 'across', 4)"
      ]
     },
     "execution_count": 42,
     "metadata": {},
     "output_type": "execute_result"
    }
   ],
   "source": [
    "X"
   ]
  },
  {
   "cell_type": "code",
   "execution_count": 35,
   "metadata": {},
   "outputs": [
    {
     "name": "stdout",
     "output_type": "stream",
     "text": [
      "{'FOUR', 'NINE', 'FIVE'}\n",
      "{'FOUR', 'NINE', 'FIVE'}\n"
     ]
    }
   ],
   "source": [
    "print(creator.domains[X])\n",
    "print(creator.domains[Y])"
   ]
  },
  {
   "cell_type": "code",
   "execution_count": 10,
   "metadata": {},
   "outputs": [],
   "source": [
    "# Define Variables to work with\n",
    "M = Variable(0, 1, 'down', 5)\n",
    "N = Variable(4, 1, 'across', 4)"
   ]
  },
  {
   "cell_type": "code",
   "execution_count": 11,
   "metadata": {},
   "outputs": [
    {
     "name": "stdout",
     "output_type": "stream",
     "text": [
      "{'EIGHT', 'SEVEN', 'THREE'}\n",
      "{'FIVE', 'NINE', 'FOUR'}\n"
     ]
    }
   ],
   "source": [
    "print(creator.domains[M])\n",
    "print(creator.domains[N])"
   ]
  },
  {
   "cell_type": "code",
   "execution_count": 12,
   "metadata": {},
   "outputs": [
    {
     "data": {
      "text/plain": [
       "True"
      ]
     },
     "execution_count": 12,
     "metadata": {},
     "output_type": "execute_result"
    }
   ],
   "source": [
    "creator.revise(M, N)"
   ]
  },
  {
   "cell_type": "code",
   "execution_count": 13,
   "metadata": {},
   "outputs": [
    {
     "data": {
      "text/plain": [
       "{'SEVEN'}"
      ]
     },
     "execution_count": 13,
     "metadata": {},
     "output_type": "execute_result"
    }
   ],
   "source": [
    "creator.domains[M]"
   ]
  },
  {
   "cell_type": "code",
   "execution_count": 14,
   "metadata": {},
   "outputs": [
    {
     "data": {
      "text/plain": [
       "{'FIVE', 'FOUR', 'NINE'}"
      ]
     },
     "execution_count": 14,
     "metadata": {},
     "output_type": "execute_result"
    }
   ],
   "source": [
    "creator.domains[N]"
   ]
  },
  {
   "cell_type": "code",
   "execution_count": 8,
   "metadata": {},
   "outputs": [],
   "source": [
    "def revise(x, y):\n",
    "    \"\"\"\n",
    "    Make variable `x` arc consistent with variable `y`.\n",
    "    To do so, remove values from `self.domains[x]` for which there is no\n",
    "    possible corresponding value for `y` in `self.domains[y]`.\n",
    "\n",
    "    Return True if a revision was made to the domain of `x`; return\n",
    "    False if no revision was made.\n",
    "    \"\"\"\n",
    "    \"\"\"\n",
    "    function revise(csp, x, y):\n",
    "        revised = False\n",
    "        for xi in x.domain:\n",
    "            if no yi in y.domain satisfies constraint for (x,y):\n",
    "                delete xi from x.domain\n",
    "                revised = True\n",
    "        return revised\n",
    "    \"\"\"\n",
    "    \"\"\"\n",
    "    for xi: for yi to sastify constraint = at least 1 yi != xi\n",
    "    if all yi == xi than constraint not satisfied\n",
    "    if all yi == xi than delete xi\n",
    "    code:\n",
    "    for yi in y.domain:\n",
    "        while True:\n",
    "            if yi == xi:\n",
    "                continue\n",
    "            else:\n",
    "                x.domain.remove(xi)\n",
    "                break\n",
    "\n",
    "    \"\"\"\n",
    "\n",
    "    revised = False\n",
    "\n",
    "    # List with removing candidates\n",
    "    removing_list = []\n",
    "    \n",
    "    # Indices of overlapping\n",
    "    i_x, i_y = crossword.overlaps[x, y]\n",
    "    \n",
    "    for word_x in creator.domains[x]:\n",
    "        print(\"starting here X: \", word_x, \", overlap:\", word_x[i_x])\n",
    "\n",
    "        # Count if condition for arc consistency was met: word_y != word_x\n",
    "        count = 0\n",
    "\n",
    "        for word_y in creator.domains[y]:\n",
    "            print(\"word_y = \", word_y, \", overlap:\", word_y[i_y])\n",
    "            if word_y[i_y] == word_x[i_x]:\n",
    "                print(\"overlapping: True\")\n",
    "                count += 1\n",
    "                break\n",
    "\n",
    "        # If condition was not met add word_x to removing list\n",
    "        if count == 0:\n",
    "            print(\"removing: \", word_x)\n",
    "            # creator.domains[x].remove(word_x)\n",
    "            removing_list.append(word_x)\n",
    "            revised = True\n",
    "\n",
    "    # Remove candidated from set domain[x]\n",
    "    creator.domains[x] = creator.domains[x] - set(removing_list)\n",
    "\n",
    "    return revised"
   ]
  }
 ],
 "metadata": {
  "kernelspec": {
   "display_name": "Python 3.10.4 64-bit",
   "language": "python",
   "name": "python3"
  },
  "language_info": {
   "codemirror_mode": {
    "name": "ipython",
    "version": 3
   },
   "file_extension": ".py",
   "mimetype": "text/x-python",
   "name": "python",
   "nbconvert_exporter": "python",
   "pygments_lexer": "ipython3",
   "version": "3.10.4"
  },
  "orig_nbformat": 4,
  "vscode": {
   "interpreter": {
    "hash": "aee8b7b246df8f9039afb4144a1f6fd8d2ca17a180786b69acc140d282b71a49"
   }
  }
 },
 "nbformat": 4,
 "nbformat_minor": 2
}
