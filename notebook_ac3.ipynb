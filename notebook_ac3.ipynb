{
 "cells": [
  {
   "cell_type": "markdown",
   "metadata": {},
   "source": [
    "## Working on AC-3 Algorithm"
   ]
  },
  {
   "cell_type": "markdown",
   "metadata": {},
   "source": [
    "- queue is list of arcs\n",
    "- arc is tuple of two neighbors (x, y)\n",
    "- list has every variable in self.variables\n",
    "- each variable in neighbors(x)\n",
    "- add variable x with neighbors y_i in tuple\n",
    "- no order needed"
   ]
  },
  {
   "cell_type": "code",
   "execution_count": 75,
   "metadata": {},
   "outputs": [],
   "source": [
    "from crossword import *\n",
    "from generate import *\n",
    "structure = \"data/structure0.txt\"\n",
    "words = \"data/words0.txt\"\n",
    "crossword = Crossword(structure, words)\n",
    "creator = CrosswordCreator(crossword)"
   ]
  },
  {
   "cell_type": "code",
   "execution_count": 76,
   "metadata": {},
   "outputs": [],
   "source": [
    "def arcs_initial(crossword):\n",
    "    # Empty set for arcs    \n",
    "    arcs = set()\n",
    "\n",
    "    # Loop over each variable\n",
    "    for variable in crossword.variables:\n",
    "        # Loop over each of neighbor of variable\n",
    "        for neighbor in crossword.neighbors(variable):\n",
    "            arcs.add((variable, neighbor))\n",
    "    \n",
    "    return arcs"
   ]
  },
  {
   "cell_type": "markdown",
   "metadata": {},
   "source": [
    "Function AC-3"
   ]
  },
  {
   "cell_type": "code",
   "execution_count": 77,
   "metadata": {},
   "outputs": [
    {
     "data": {
      "text/plain": [
       "{Variable(0, 1, 'down', 5): {'EIGHT', 'SEVEN', 'THREE'},\n",
       " Variable(0, 1, 'across', 3): {'ONE', 'SIX', 'TEN', 'TWO'},\n",
       " Variable(4, 1, 'across', 4): {'FIVE', 'FOUR', 'NINE'},\n",
       " Variable(1, 4, 'down', 4): {'FIVE', 'FOUR', 'NINE'}}"
      ]
     },
     "execution_count": 77,
     "metadata": {},
     "output_type": "execute_result"
    }
   ],
   "source": [
    "# Enforce node consistency\n",
    "creator.enforce_node_consistency()\n",
    "creator.domains"
   ]
  },
  {
   "cell_type": "code",
   "execution_count": 60,
   "metadata": {},
   "outputs": [
    {
     "data": {
      "text/plain": [
       "{(Variable(0, 1, 'across', 3), Variable(0, 1, 'down', 5)),\n",
       " (Variable(0, 1, 'down', 5), Variable(0, 1, 'across', 3)),\n",
       " (Variable(0, 1, 'down', 5), Variable(4, 1, 'across', 4)),\n",
       " (Variable(1, 4, 'down', 4), Variable(4, 1, 'across', 4)),\n",
       " (Variable(4, 1, 'across', 4), Variable(0, 1, 'down', 5)),\n",
       " (Variable(4, 1, 'across', 4), Variable(1, 4, 'down', 4))}"
      ]
     },
     "execution_count": 60,
     "metadata": {},
     "output_type": "execute_result"
    }
   ],
   "source": [
    "arcs = arcs_initial(creator.crossword)\n",
    "arcs"
   ]
  },
  {
   "cell_type": "code",
   "execution_count": 37,
   "metadata": {},
   "outputs": [
    {
     "name": "stdout",
     "output_type": "stream",
     "text": [
      "(4, 1) across : 4 , (0, 1) down : 5\n"
     ]
    }
   ],
   "source": [
    "(X, Y) = arcs.pop()\n",
    "print(X,',', Y)"
   ]
  },
  {
   "cell_type": "code",
   "execution_count": 42,
   "metadata": {},
   "outputs": [
    {
     "data": {
      "text/plain": [
       "Variable(4, 1, 'across', 4)"
      ]
     },
     "execution_count": 42,
     "metadata": {},
     "output_type": "execute_result"
    }
   ],
   "source": [
    "X"
   ]
  },
  {
   "cell_type": "code",
   "execution_count": 35,
   "metadata": {},
   "outputs": [
    {
     "name": "stdout",
     "output_type": "stream",
     "text": [
      "{'FOUR', 'NINE', 'FIVE'}\n",
      "{'FOUR', 'NINE', 'FIVE'}\n"
     ]
    }
   ],
   "source": [
    "print(creator.domains[X])\n",
    "print(creator.domains[Y])"
   ]
  },
  {
   "cell_type": "code",
   "execution_count": 78,
   "metadata": {},
   "outputs": [],
   "source": [
    "# Define Variables to work with\n",
    "M = Variable(0, 1, 'down', 5)\n",
    "N = Variable(4, 1, 'across', 4)"
   ]
  },
  {
   "cell_type": "code",
   "execution_count": 79,
   "metadata": {},
   "outputs": [
    {
     "name": "stdout",
     "output_type": "stream",
     "text": [
      "{'EIGHT', 'SEVEN', 'THREE'}\n",
      "{'FIVE', 'NINE', 'FOUR'}\n"
     ]
    }
   ],
   "source": [
    "print(creator.domains[M])\n",
    "print(creator.domains[N])"
   ]
  },
  {
   "cell_type": "code",
   "execution_count": 12,
   "metadata": {},
   "outputs": [
    {
     "data": {
      "text/plain": [
       "True"
      ]
     },
     "execution_count": 12,
     "metadata": {},
     "output_type": "execute_result"
    }
   ],
   "source": [
    "creator.revise(M, N)"
   ]
  },
  {
   "cell_type": "code",
   "execution_count": 13,
   "metadata": {},
   "outputs": [
    {
     "data": {
      "text/plain": [
       "{'SEVEN'}"
      ]
     },
     "execution_count": 13,
     "metadata": {},
     "output_type": "execute_result"
    }
   ],
   "source": [
    "creator.domains[M]"
   ]
  },
  {
   "cell_type": "code",
   "execution_count": 14,
   "metadata": {},
   "outputs": [
    {
     "data": {
      "text/plain": [
       "{'FIVE', 'FOUR', 'NINE'}"
      ]
     },
     "execution_count": 14,
     "metadata": {},
     "output_type": "execute_result"
    }
   ],
   "source": [
    "creator.domains[N]"
   ]
  },
  {
   "cell_type": "code",
   "execution_count": 16,
   "metadata": {},
   "outputs": [
    {
     "data": {
      "text/plain": [
       "{Variable(0, 1, 'across', 3), Variable(4, 1, 'across', 4)}"
      ]
     },
     "execution_count": 16,
     "metadata": {},
     "output_type": "execute_result"
    }
   ],
   "source": [
    "# Add X.neighbors -{Y} to arcs\n",
    "\n",
    "creator.crossword.neighbors(M)"
   ]
  },
  {
   "cell_type": "code",
   "execution_count": 17,
   "metadata": {},
   "outputs": [
    {
     "data": {
      "text/plain": [
       "Variable(4, 1, 'across', 4)"
      ]
     },
     "execution_count": 17,
     "metadata": {},
     "output_type": "execute_result"
    }
   ],
   "source": [
    "N"
   ]
  },
  {
   "cell_type": "code",
   "execution_count": 39,
   "metadata": {},
   "outputs": [],
   "source": [
    "# Set Z with neighbors excluding N remains\n",
    "Z_set = creator.crossword.neighbors(M) - {N}"
   ]
  },
  {
   "cell_type": "code",
   "execution_count": 40,
   "metadata": {},
   "outputs": [
    {
     "data": {
      "text/plain": [
       "{Variable(0, 1, 'across', 3)}"
      ]
     },
     "execution_count": 40,
     "metadata": {},
     "output_type": "execute_result"
    }
   ],
   "source": [
    "Z_set"
   ]
  },
  {
   "cell_type": "code",
   "execution_count": 24,
   "metadata": {},
   "outputs": [
    {
     "data": {
      "text/plain": [
       "{(Variable(0, 1, 'across', 3), Variable(0, 1, 'down', 5)),\n",
       " (Variable(0, 1, 'down', 5), Variable(0, 1, 'across', 3)),\n",
       " (Variable(0, 1, 'down', 5), Variable(4, 1, 'across', 4)),\n",
       " (Variable(1, 4, 'down', 4), Variable(4, 1, 'across', 4)),\n",
       " (Variable(4, 1, 'across', 4), Variable(0, 1, 'down', 5)),\n",
       " (Variable(4, 1, 'across', 4), Variable(1, 4, 'down', 4))}"
      ]
     },
     "execution_count": 24,
     "metadata": {},
     "output_type": "execute_result"
    }
   ],
   "source": [
    "# Add for each Z set(Zi,X) to set arcs\n",
    "arcs"
   ]
  },
  {
   "cell_type": "code",
   "execution_count": 36,
   "metadata": {},
   "outputs": [],
   "source": [
    "# Trying to add to arcs without N\n",
    "arcs -= {(N, M)}"
   ]
  },
  {
   "cell_type": "code",
   "execution_count": 37,
   "metadata": {},
   "outputs": [
    {
     "data": {
      "text/plain": [
       "{(Variable(0, 1, 'across', 3), Variable(0, 1, 'down', 5)),\n",
       " (Variable(0, 1, 'down', 5), Variable(0, 1, 'across', 3)),\n",
       " (Variable(0, 1, 'down', 5), Variable(4, 1, 'across', 4)),\n",
       " (Variable(1, 4, 'down', 4), Variable(4, 1, 'across', 4)),\n",
       " (Variable(4, 1, 'across', 4), Variable(1, 4, 'down', 4))}"
      ]
     },
     "execution_count": 37,
     "metadata": {},
     "output_type": "execute_result"
    }
   ],
   "source": [
    "arcs"
   ]
  },
  {
   "cell_type": "code",
   "execution_count": 45,
   "metadata": {},
   "outputs": [],
   "source": [
    "arcs.add((N, M))"
   ]
  },
  {
   "cell_type": "code",
   "execution_count": 46,
   "metadata": {},
   "outputs": [
    {
     "data": {
      "text/plain": [
       "{(Variable(0, 1, 'across', 3), Variable(0, 1, 'down', 5)),\n",
       " (Variable(0, 1, 'down', 5), Variable(0, 1, 'across', 3)),\n",
       " (Variable(0, 1, 'down', 5), Variable(4, 1, 'across', 4)),\n",
       " (Variable(1, 4, 'down', 4), Variable(4, 1, 'across', 4)),\n",
       " (Variable(4, 1, 'across', 4), Variable(0, 1, 'down', 5)),\n",
       " (Variable(4, 1, 'across', 4), Variable(1, 4, 'down', 4))}"
      ]
     },
     "execution_count": 46,
     "metadata": {},
     "output_type": "execute_result"
    }
   ],
   "source": [
    "arcs"
   ]
  },
  {
   "cell_type": "code",
   "execution_count": 47,
   "metadata": {},
   "outputs": [],
   "source": [
    "# Add a second time\n",
    "arcs.add((N, M))\n"
   ]
  },
  {
   "cell_type": "code",
   "execution_count": 54,
   "metadata": {},
   "outputs": [
    {
     "data": {
      "text/plain": [
       "{(Variable(0, 1, 'down', 5), Variable(0, 1, 'across', 3)),\n",
       " (Variable(0, 1, 'down', 5), Variable(4, 1, 'across', 4)),\n",
       " (Variable(1, 4, 'down', 4), Variable(4, 1, 'across', 4)),\n",
       " (Variable(4, 1, 'across', 4), Variable(0, 1, 'down', 5)),\n",
       " (Variable(4, 1, 'across', 4), Variable(1, 4, 'down', 4))}"
      ]
     },
     "execution_count": 54,
     "metadata": {},
     "output_type": "execute_result"
    }
   ],
   "source": [
    "arcs"
   ]
  },
  {
   "cell_type": "code",
   "execution_count": 53,
   "metadata": {},
   "outputs": [],
   "source": [
    "arcs -= {(Z, M)}"
   ]
  },
  {
   "cell_type": "code",
   "execution_count": 55,
   "metadata": {},
   "outputs": [],
   "source": [
    "for Z in Z_set:\n",
    "    arcs.add((Z, M))"
   ]
  },
  {
   "cell_type": "code",
   "execution_count": 56,
   "metadata": {},
   "outputs": [
    {
     "data": {
      "text/plain": [
       "{(Variable(0, 1, 'across', 3), Variable(0, 1, 'down', 5)),\n",
       " (Variable(0, 1, 'down', 5), Variable(0, 1, 'across', 3)),\n",
       " (Variable(0, 1, 'down', 5), Variable(4, 1, 'across', 4)),\n",
       " (Variable(1, 4, 'down', 4), Variable(4, 1, 'across', 4)),\n",
       " (Variable(4, 1, 'across', 4), Variable(0, 1, 'down', 5)),\n",
       " (Variable(4, 1, 'across', 4), Variable(1, 4, 'down', 4))}"
      ]
     },
     "execution_count": 56,
     "metadata": {},
     "output_type": "execute_result"
    }
   ],
   "source": [
    "arcs"
   ]
  },
  {
   "cell_type": "code",
   "execution_count": null,
   "metadata": {},
   "outputs": [],
   "source": [
    "def ac3(arcs=None):\n",
    "\n",
    "    # Create initial queue with all arcs\n",
    "    if arcs is None:\n",
    "        arcs = arcs_initial(creator.crossword)\n",
    "\n",
    "    # While set is not empty\n",
    "    while len(arcs) > 0:\n",
    "        (X, Y) = arcs.pop()\n",
    "\n",
    "        if creator.revise(X, Y):\n",
    "            # If empty\n",
    "            if not creator.domains[X]:\n",
    "                return False\n",
    "            else:\n",
    "                for Z in (creator.crossword.neighbors(X) - {Y}):\n",
    "                    arcs.add((Z, X))\n",
    "\n",
    "    return True"
   ]
  },
  {
   "cell_type": "code",
   "execution_count": 65,
   "metadata": {},
   "outputs": [
    {
     "data": {
      "text/plain": [
       "{'SEVEN'}"
      ]
     },
     "execution_count": 65,
     "metadata": {},
     "output_type": "execute_result"
    }
   ],
   "source": [
    "creator.domains[M]"
   ]
  },
  {
   "cell_type": "code",
   "execution_count": 70,
   "metadata": {},
   "outputs": [],
   "source": [
    "creator.domains[M] -= {'SEVEN'}"
   ]
  },
  {
   "cell_type": "code",
   "execution_count": 71,
   "metadata": {},
   "outputs": [
    {
     "data": {
      "text/plain": [
       "set()"
      ]
     },
     "execution_count": 71,
     "metadata": {},
     "output_type": "execute_result"
    }
   ],
   "source": [
    "creator.domains[M]"
   ]
  },
  {
   "cell_type": "code",
   "execution_count": 72,
   "metadata": {},
   "outputs": [
    {
     "name": "stdout",
     "output_type": "stream",
     "text": [
      "empty\n"
     ]
    }
   ],
   "source": [
    "if not creator.domains[M]:\n",
    "    print('empty')"
   ]
  },
  {
   "cell_type": "code",
   "execution_count": 81,
   "metadata": {},
   "outputs": [
    {
     "name": "stdout",
     "output_type": "stream",
     "text": [
      "(0, 1) across : 3\n"
     ]
    }
   ],
   "source": [
    "for Z in (creator.crossword.neighbors(M) - {N}):\n",
    "    print(Z)"
   ]
  },
  {
   "cell_type": "code",
   "execution_count": null,
   "metadata": {},
   "outputs": [],
   "source": []
  }
 ],
 "metadata": {
  "kernelspec": {
   "display_name": "Python 3.10.4 64-bit",
   "language": "python",
   "name": "python3"
  },
  "language_info": {
   "codemirror_mode": {
    "name": "ipython",
    "version": 3
   },
   "file_extension": ".py",
   "mimetype": "text/x-python",
   "name": "python",
   "nbconvert_exporter": "python",
   "pygments_lexer": "ipython3",
   "version": "3.10.4"
  },
  "orig_nbformat": 4,
  "vscode": {
   "interpreter": {
    "hash": "aee8b7b246df8f9039afb4144a1f6fd8d2ca17a180786b69acc140d282b71a49"
   }
  }
 },
 "nbformat": 4,
 "nbformat_minor": 2
}
