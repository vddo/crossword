{
 "cells": [
  {
   "cell_type": "code",
   "execution_count": 8,
   "metadata": {},
   "outputs": [],
   "source": [
    "from crossword import *\n",
    "structure = \"data/structure2.txt\"\n",
    "words = \"data/words2.txt\"\n",
    "crossword = Crossword(structure, words)"
   ]
  },
  {
   "cell_type": "code",
   "execution_count": 6,
   "metadata": {},
   "outputs": [
    {
     "data": {
      "text/plain": [
       "{Variable(0, 6, 'down', 6),\n",
       " Variable(1, 0, 'across', 4),\n",
       " Variable(1, 0, 'down', 4),\n",
       " Variable(1, 3, 'down', 5),\n",
       " Variable(2, 3, 'across', 4),\n",
       " Variable(5, 1, 'across', 3)}"
      ]
     },
     "execution_count": 6,
     "metadata": {},
     "output_type": "execute_result"
    }
   ],
   "source": [
    "crossword.variables"
   ]
  },
  {
   "cell_type": "code",
   "execution_count": null,
   "metadata": {},
   "outputs": [],
   "source": [
    "crossword.words"
   ]
  },
  {
   "cell_type": "code",
   "execution_count": 17,
   "metadata": {},
   "outputs": [
    {
     "data": {
      "text/plain": [
       "{(Variable(1, 0, 'across', 4), Variable(5, 1, 'across', 3)): None,\n",
       " (Variable(1, 0, 'across', 4), Variable(1, 0, 'down', 4)): (0, 0),\n",
       " (Variable(1, 0, 'across', 4), Variable(2, 3, 'across', 4)): None,\n",
       " (Variable(1, 0, 'across', 4), Variable(0, 6, 'down', 6)): None,\n",
       " (Variable(1, 0, 'across', 4), Variable(1, 3, 'down', 5)): (3, 0),\n",
       " (Variable(5, 1, 'across', 3), Variable(1, 0, 'across', 4)): None,\n",
       " (Variable(5, 1, 'across', 3), Variable(1, 0, 'down', 4)): None,\n",
       " (Variable(5, 1, 'across', 3), Variable(2, 3, 'across', 4)): None,\n",
       " (Variable(5, 1, 'across', 3), Variable(0, 6, 'down', 6)): None,\n",
       " (Variable(5, 1, 'across', 3), Variable(1, 3, 'down', 5)): (2, 4),\n",
       " (Variable(1, 0, 'down', 4), Variable(1, 0, 'across', 4)): (0, 0),\n",
       " (Variable(1, 0, 'down', 4), Variable(5, 1, 'across', 3)): None,\n",
       " (Variable(1, 0, 'down', 4), Variable(2, 3, 'across', 4)): None,\n",
       " (Variable(1, 0, 'down', 4), Variable(0, 6, 'down', 6)): None,\n",
       " (Variable(1, 0, 'down', 4), Variable(1, 3, 'down', 5)): None,\n",
       " (Variable(2, 3, 'across', 4), Variable(1, 0, 'across', 4)): None,\n",
       " (Variable(2, 3, 'across', 4), Variable(5, 1, 'across', 3)): None,\n",
       " (Variable(2, 3, 'across', 4), Variable(1, 0, 'down', 4)): None,\n",
       " (Variable(2, 3, 'across', 4), Variable(0, 6, 'down', 6)): (3, 2),\n",
       " (Variable(2, 3, 'across', 4), Variable(1, 3, 'down', 5)): (0, 1),\n",
       " (Variable(0, 6, 'down', 6), Variable(1, 0, 'across', 4)): None,\n",
       " (Variable(0, 6, 'down', 6), Variable(5, 1, 'across', 3)): None,\n",
       " (Variable(0, 6, 'down', 6), Variable(1, 0, 'down', 4)): None,\n",
       " (Variable(0, 6, 'down', 6), Variable(2, 3, 'across', 4)): (2, 3),\n",
       " (Variable(0, 6, 'down', 6), Variable(1, 3, 'down', 5)): None,\n",
       " (Variable(1, 3, 'down', 5), Variable(1, 0, 'across', 4)): (0, 3),\n",
       " (Variable(1, 3, 'down', 5), Variable(5, 1, 'across', 3)): (4, 2),\n",
       " (Variable(1, 3, 'down', 5), Variable(1, 0, 'down', 4)): None,\n",
       " (Variable(1, 3, 'down', 5), Variable(2, 3, 'across', 4)): (1, 0),\n",
       " (Variable(1, 3, 'down', 5), Variable(0, 6, 'down', 6)): None}"
      ]
     },
     "execution_count": 17,
     "metadata": {},
     "output_type": "execute_result"
    }
   ],
   "source": [
    "crossword.overlaps"
   ]
  },
  {
   "cell_type": "code",
   "execution_count": 11,
   "metadata": {},
   "outputs": [],
   "source": [
    "VarX = Variable(2, 3, 'across', 4)"
   ]
  },
  {
   "cell_type": "code",
   "execution_count": 16,
   "metadata": {},
   "outputs": [
    {
     "data": {
      "text/plain": [
       "{Variable(0, 6, 'down', 6), Variable(1, 3, 'down', 5)}"
      ]
     },
     "execution_count": 16,
     "metadata": {},
     "output_type": "execute_result"
    }
   ],
   "source": [
    "crossword.neighbors(VarX)"
   ]
  }
 ],
 "metadata": {
  "kernelspec": {
   "display_name": "Python 3.10.4 64-bit",
   "language": "python",
   "name": "python3"
  },
  "language_info": {
   "codemirror_mode": {
    "name": "ipython",
    "version": 3
   },
   "file_extension": ".py",
   "mimetype": "text/x-python",
   "name": "python",
   "nbconvert_exporter": "python",
   "pygments_lexer": "ipython3",
   "version": "3.10.4"
  },
  "orig_nbformat": 4,
  "vscode": {
   "interpreter": {
    "hash": "aee8b7b246df8f9039afb4144a1f6fd8d2ca17a180786b69acc140d282b71a49"
   }
  }
 },
 "nbformat": 4,
 "nbformat_minor": 2
}
