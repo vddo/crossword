{
 "cells": [
  {
   "cell_type": "code",
   "execution_count": 1,
   "metadata": {},
   "outputs": [],
   "source": [
    "from crossword import *\n",
    "from generate import *\n",
    "structure = \"data/structure0.txt\"\n",
    "words = \"data/words0.txt\"\n",
    "crossword = Crossword(structure, words)\n",
    "creator = CrosswordCreator(crossword)\n",
    "# import numpy as np\n",
    "from random import randint"
   ]
  },
  {
   "cell_type": "code",
   "execution_count": 3,
   "metadata": {},
   "outputs": [
    {
     "data": {
      "text/plain": [
       "{Variable(4, 1, 'across', 4): {'EIGHT',\n",
       "  'FIVE',\n",
       "  'FOUR',\n",
       "  'NINE',\n",
       "  'ONE',\n",
       "  'SEVEN',\n",
       "  'SIX',\n",
       "  'TEN',\n",
       "  'THREE',\n",
       "  'TWO'},\n",
       " Variable(0, 1, 'down', 5): {'EIGHT',\n",
       "  'FIVE',\n",
       "  'FOUR',\n",
       "  'NINE',\n",
       "  'ONE',\n",
       "  'SEVEN',\n",
       "  'SIX',\n",
       "  'TEN',\n",
       "  'THREE',\n",
       "  'TWO'},\n",
       " Variable(1, 4, 'down', 4): {'EIGHT',\n",
       "  'FIVE',\n",
       "  'FOUR',\n",
       "  'NINE',\n",
       "  'ONE',\n",
       "  'SEVEN',\n",
       "  'SIX',\n",
       "  'TEN',\n",
       "  'THREE',\n",
       "  'TWO'},\n",
       " Variable(0, 1, 'across', 3): {'EIGHT',\n",
       "  'FIVE',\n",
       "  'FOUR',\n",
       "  'NINE',\n",
       "  'ONE',\n",
       "  'SEVEN',\n",
       "  'SIX',\n",
       "  'TEN',\n",
       "  'THREE',\n",
       "  'TWO'}}"
      ]
     },
     "execution_count": 3,
     "metadata": {},
     "output_type": "execute_result"
    }
   ],
   "source": [
    "creator.domains"
   ]
  },
  {
   "cell_type": "code",
   "execution_count": 5,
   "metadata": {},
   "outputs": [],
   "source": [
    "assignment = [Variable(0, 1, 'across', 3)]"
   ]
  },
  {
   "cell_type": "code",
   "execution_count": 6,
   "metadata": {},
   "outputs": [
    {
     "data": {
      "text/plain": [
       "{'EIGHT', 'FIVE', 'FOUR', 'NINE', 'ONE', 'SEVEN', 'SIX', 'TEN', 'THREE', 'TWO'}"
      ]
     },
     "execution_count": 6,
     "metadata": {},
     "output_type": "execute_result"
    }
   ],
   "source": [
    "creator.domains[Variable(0, 1, 'down', 5)]"
   ]
  },
  {
   "cell_type": "code",
   "execution_count": 7,
   "metadata": {},
   "outputs": [
    {
     "data": {
      "text/plain": [
       "{'EIGHT', 'FIVE', 'FOUR', 'NINE', 'ONE', 'SEVEN', 'SIX', 'TEN', 'THREE', 'TWO'}"
      ]
     },
     "execution_count": 7,
     "metadata": {},
     "output_type": "execute_result"
    }
   ],
   "source": [
    "creator.domains[Variable(0, 1, 'across', 3)]"
   ]
  },
  {
   "cell_type": "code",
   "execution_count": 8,
   "metadata": {},
   "outputs": [],
   "source": [
    "var = Variable(0, 1, 'down', 5)"
   ]
  },
  {
   "cell_type": "code",
   "execution_count": 10,
   "metadata": {},
   "outputs": [],
   "source": [
    "var_neighbors = creator.crossword.neighbors(Variable(0, 1, 'down', 5))"
   ]
  },
  {
   "cell_type": "code",
   "execution_count": null,
   "metadata": {},
   "outputs": [],
   "source": [
    "domain_values = list(creator.domains[Variable(0, 1, 'down', 5)])\n",
    "for value in domain_values:\n",
    "    if value in assignment:\n",
    "        domain_values.remove(value)"
   ]
  },
  {
   "cell_type": "code",
   "execution_count": 12,
   "metadata": {},
   "outputs": [],
   "source": [
    "candidates = set()\n",
    "for neighbor in var_neighbors:\n",
    "    if neighbor in assignment:\n",
    "        candidates.add(neighbor)\n",
    "\n",
    "var_neighbors -= candidates\n"
   ]
  },
  {
   "cell_type": "code",
   "execution_count": 13,
   "metadata": {},
   "outputs": [
    {
     "data": {
      "text/plain": [
       "{Variable(4, 1, 'across', 4)}"
      ]
     },
     "execution_count": 13,
     "metadata": {},
     "output_type": "execute_result"
    }
   ],
   "source": [
    "var_neighbors"
   ]
  },
  {
   "cell_type": "code",
   "execution_count": null,
   "metadata": {},
   "outputs": [],
   "source": []
  }
 ],
 "metadata": {
  "kernelspec": {
   "display_name": "Python 3.10.4 64-bit",
   "language": "python",
   "name": "python3"
  },
  "language_info": {
   "codemirror_mode": {
    "name": "ipython",
    "version": 3
   },
   "file_extension": ".py",
   "mimetype": "text/x-python",
   "name": "python",
   "nbconvert_exporter": "python",
   "pygments_lexer": "ipython3",
   "version": "3.10.4"
  },
  "orig_nbformat": 4,
  "vscode": {
   "interpreter": {
    "hash": "aee8b7b246df8f9039afb4144a1f6fd8d2ca17a180786b69acc140d282b71a49"
   }
  }
 },
 "nbformat": 4,
 "nbformat_minor": 2
}
