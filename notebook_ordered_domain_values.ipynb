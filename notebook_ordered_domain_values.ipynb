{
 "cells": [
  {
   "cell_type": "code",
   "execution_count": 1,
   "metadata": {},
   "outputs": [],
   "source": [
    "from crossword import *\n",
    "from generate import *\n",
    "structure = \"data/structure0.txt\"\n",
    "words = \"data/words0.txt\"\n",
    "crossword = Crossword(structure, words)\n",
    "creator = CrosswordCreator(crossword)\n",
    "# import numpy as np\n",
    "from random import randint"
   ]
  },
  {
   "cell_type": "code",
   "execution_count": null,
   "metadata": {},
   "outputs": [],
   "source": [
    "creator.domains"
   ]
  },
  {
   "cell_type": "code",
   "execution_count": 2,
   "metadata": {},
   "outputs": [],
   "source": [
    "assignment = [Variable(0, 1, 'across', 3)]"
   ]
  },
  {
   "cell_type": "code",
   "execution_count": 3,
   "metadata": {},
   "outputs": [],
   "source": [
    "var = Variable(0, 1, 'down', 5)"
   ]
  },
  {
   "cell_type": "code",
   "execution_count": 6,
   "metadata": {},
   "outputs": [
    {
     "data": {
      "text/plain": [
       "{'EIGHT', 'FIVE', 'FOUR', 'NINE', 'ONE', 'SEVEN', 'SIX', 'TEN', 'THREE', 'TWO'}"
      ]
     },
     "execution_count": 6,
     "metadata": {},
     "output_type": "execute_result"
    }
   ],
   "source": [
    "creator.domains[Variable(0, 1, 'down', 5)]"
   ]
  },
  {
   "cell_type": "code",
   "execution_count": 7,
   "metadata": {},
   "outputs": [
    {
     "data": {
      "text/plain": [
       "{'EIGHT', 'FIVE', 'FOUR', 'NINE', 'ONE', 'SEVEN', 'SIX', 'TEN', 'THREE', 'TWO'}"
      ]
     },
     "execution_count": 7,
     "metadata": {},
     "output_type": "execute_result"
    }
   ],
   "source": [
    "creator.domains[Variable(0, 1, 'across', 3)]"
   ]
  },
  {
   "cell_type": "code",
   "execution_count": 10,
   "metadata": {},
   "outputs": [],
   "source": [
    "var_neighbors = creator.crossword.neighbors(Variable(0, 1, 'down', 5))"
   ]
  },
  {
   "cell_type": "code",
   "execution_count": null,
   "metadata": {},
   "outputs": [],
   "source": [
    "domain_values = list(creator.domains[Variable(0, 1, 'down', 5)])\n",
    "for value in domain_values:\n",
    "    if value in assignment:\n",
    "        domain_values.remove(value)"
   ]
  },
  {
   "cell_type": "code",
   "execution_count": 12,
   "metadata": {},
   "outputs": [],
   "source": [
    "candidates = set()\n",
    "for neighbor in var_neighbors:\n",
    "    if neighbor in assignment:\n",
    "        candidates.add(neighbor)\n",
    "\n",
    "var_neighbors -= candidates\n"
   ]
  },
  {
   "cell_type": "code",
   "execution_count": 13,
   "metadata": {},
   "outputs": [
    {
     "data": {
      "text/plain": [
       "{Variable(4, 1, 'across', 4)}"
      ]
     },
     "execution_count": 13,
     "metadata": {},
     "output_type": "execute_result"
    }
   ],
   "source": [
    "var_neighbors"
   ]
  },
  {
   "cell_type": "code",
   "execution_count": 5,
   "metadata": {},
   "outputs": [
    {
     "data": {
      "text/plain": [
       "{(Variable(0, 1, 'across', 3), Variable(0, 1, 'down', 5)): (0, 0),\n",
       " (Variable(0, 1, 'across', 3), Variable(4, 1, 'across', 4)): None,\n",
       " (Variable(0, 1, 'across', 3), Variable(1, 4, 'down', 4)): None,\n",
       " (Variable(0, 1, 'down', 5), Variable(0, 1, 'across', 3)): (0, 0),\n",
       " (Variable(0, 1, 'down', 5), Variable(4, 1, 'across', 4)): (4, 0),\n",
       " (Variable(0, 1, 'down', 5), Variable(1, 4, 'down', 4)): None,\n",
       " (Variable(4, 1, 'across', 4), Variable(0, 1, 'across', 3)): None,\n",
       " (Variable(4, 1, 'across', 4), Variable(0, 1, 'down', 5)): (0, 4),\n",
       " (Variable(4, 1, 'across', 4), Variable(1, 4, 'down', 4)): (3, 3),\n",
       " (Variable(1, 4, 'down', 4), Variable(0, 1, 'across', 3)): None,\n",
       " (Variable(1, 4, 'down', 4), Variable(0, 1, 'down', 5)): None,\n",
       " (Variable(1, 4, 'down', 4), Variable(4, 1, 'across', 4)): (3, 3)}"
      ]
     },
     "execution_count": 5,
     "metadata": {},
     "output_type": "execute_result"
    }
   ],
   "source": [
    "creator.crossword.overlaps"
   ]
  },
  {
   "cell_type": "code",
   "execution_count": 6,
   "metadata": {},
   "outputs": [
    {
     "data": {
      "text/plain": [
       "(4, 0)"
      ]
     },
     "execution_count": 6,
     "metadata": {},
     "output_type": "execute_result"
    }
   ],
   "source": [
    "creator.crossword.overlaps[var, Variable(4, 1, 'across', 4)]"
   ]
  },
  {
   "cell_type": "code",
   "execution_count": 2,
   "metadata": {},
   "outputs": [
    {
     "data": {
      "text/plain": [
       "['SEVEN', 'THREE', 'EIGHT']"
      ]
     },
     "execution_count": 2,
     "metadata": {},
     "output_type": "execute_result"
    }
   ],
   "source": [
    "from crossword import *\n",
    "from generate import *\n",
    "structure = \"data/structure0.txt\"\n",
    "words = \"data/words0.txt\"\n",
    "crossword = Crossword(structure, words)\n",
    "creator = CrosswordCreator(crossword)\n",
    "# import numpy as np\n",
    "from random import randint\n",
    "\n",
    "creator.enforce_node_consistency()\n",
    "# creator.ac3()\n",
    "\n",
    "assignment = [Variable(0, 1, 'across', 3)]\n",
    "var = Variable(0, 1, 'down', 5)\n",
    "\n",
    "list = creator.order_domain_values(var, assignment)\n",
    "list\n"
   ]
  },
  {
   "cell_type": "code",
   "execution_count": 8,
   "metadata": {},
   "outputs": [
    {
     "data": {
      "text/plain": [
       "[('SEVEN', 2), ('THREE', 3), ('EIGHT', 3)]"
      ]
     },
     "execution_count": 8,
     "metadata": {},
     "output_type": "execute_result"
    }
   ],
   "source": [
    "list = sorted(list, key=lambda value: value[1])\n",
    "list"
   ]
  },
  {
   "cell_type": "code",
   "execution_count": 9,
   "metadata": {},
   "outputs": [
    {
     "data": {
      "text/plain": [
       "['SEVEN', 'THREE', 'EIGHT']"
      ]
     },
     "execution_count": 9,
     "metadata": {},
     "output_type": "execute_result"
    }
   ],
   "source": [
    "for i in range(len(list)):\n",
    "    list[i] = list[i][0]\n",
    "\n",
    "list\n"
   ]
  },
  {
   "cell_type": "code",
   "execution_count": 4,
   "metadata": {},
   "outputs": [
    {
     "data": {
      "text/plain": [
       "{}"
      ]
     },
     "execution_count": 4,
     "metadata": {},
     "output_type": "execute_result"
    }
   ],
   "source": [
    "creator.order_domain_values(var, assignment)"
   ]
  },
  {
   "cell_type": "code",
   "execution_count": 2,
   "metadata": {},
   "outputs": [],
   "source": [
    "# Check for already assigned neighbors\n",
    "candidates = set()\n",
    "var_neighbors = creator.crossword.neighbors(var)\n",
    "# print(var_neighbors)\n",
    "for neighbor in var_neighbors:\n",
    "    # print(neighbor)\n",
    "    if neighbor in assignment:\n",
    "        candidates.add(neighbor)\n",
    "        # print(candidates)\n",
    "\n",
    "# Remove vars that are already in assignment\n",
    "var_neighbors -= candidates"
   ]
  },
  {
   "cell_type": "code",
   "execution_count": 4,
   "metadata": {},
   "outputs": [
    {
     "data": {
      "text/plain": [
       "{Variable(4, 1, 'across', 4)}"
      ]
     },
     "execution_count": 4,
     "metadata": {},
     "output_type": "execute_result"
    }
   ],
   "source": [
    "var_neighbors"
   ]
  },
  {
   "cell_type": "code",
   "execution_count": null,
   "metadata": {},
   "outputs": [],
   "source": [
    "ordered_domain = dict()\n",
    "# Loop over domain in var\n",
    "for word in creator.domains[var]:\n",
    "    # New counter for each word\n",
    "    # print(word)\n",
    "    n = 0\n",
    "    for neighbor2 in var_neighbors:\n",
    "        # Read overlapping indices\n",
    "        (i, j) = creator.crossword.overlaps[var, neighbor2]\n",
    "        # Loop over words in neighboring variable\n",
    "        for word_neighbor in creator.domains[neighbor2]:\n",
    "            print(word_neighbor)\n",
    "            # Of letters do not match, add n + 1\n",
    "            if word[i] != word_neighbor[j]:\n",
    "                n = n + 1\n",
    "                print(n)\n"
   ]
  },
  {
   "cell_type": "code",
   "execution_count": 14,
   "metadata": {},
   "outputs": [
    {
     "name": "stdout",
     "output_type": "stream",
     "text": [
      "(0, 1) across : 3\n",
      "(4, 1) across : 4\n"
     ]
    }
   ],
   "source": [
    "for neighbor in creator.crossword.neighbors(Variable(0, 1, 'down', 5)):\n",
    "    print(neighbor)"
   ]
  },
  {
   "cell_type": "code",
   "execution_count": null,
   "metadata": {},
   "outputs": [],
   "source": []
  }
 ],
 "metadata": {
  "kernelspec": {
   "display_name": "Python 3.10.4 64-bit",
   "language": "python",
   "name": "python3"
  },
  "language_info": {
   "codemirror_mode": {
    "name": "ipython",
    "version": 3
   },
   "file_extension": ".py",
   "mimetype": "text/x-python",
   "name": "python",
   "nbconvert_exporter": "python",
   "pygments_lexer": "ipython3",
   "version": "3.10.4"
  },
  "orig_nbformat": 4,
  "vscode": {
   "interpreter": {
    "hash": "aee8b7b246df8f9039afb4144a1f6fd8d2ca17a180786b69acc140d282b71a49"
   }
  }
 },
 "nbformat": 4,
 "nbformat_minor": 2
}
